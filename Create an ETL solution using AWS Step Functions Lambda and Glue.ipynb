{
 "cells": [
  {
   "cell_type": "markdown",
   "id": "c02852d1",
   "metadata": {},
   "source": [
    "## 1. 安装和加载使用Step Functions Data Science SDK必需的模块"
   ]
  },
  {
   "cell_type": "code",
   "execution_count": null,
   "id": "95aba2f9",
   "metadata": {},
   "outputs": [],
   "source": [
    "import sys\n",
    "!{sys.executable} -m pip install --upgrade stepfunctions"
   ]
  },
  {
   "cell_type": "markdown",
   "id": "078868df",
   "metadata": {},
   "source": [
    "## 2. 在console创建一个Role附加到Step Functions"
   ]
  },
  {
   "cell_type": "code",
   "execution_count": 20,
   "id": "5653d072",
   "metadata": {},
   "outputs": [],
   "source": [
    "import stepfunctions\n",
    "import logging\n",
    "\n",
    "from stepfunctions import steps\n",
    "from stepfunctions.steps import *\n",
    "from stepfunctions.workflow import Workflow\n",
    "\n",
    "stepfunctions.set_stream_logger(level=logging.INFO)\n",
    "\n",
    "workflow_execution_role = \"arn:aws-cn:iam::685095924131:role/StepFunctionsWorkflowExecutionRole\"  # 从IAM找到StepFunctionsWorkflowExecutionRole ARN并粘贴 "
   ]
  },
  {
   "cell_type": "markdown",
   "id": "5b75278f",
   "metadata": {},
   "source": [
    "### 2.1 指定Execute Crawler的Lambda名字"
   ]
  },
  {
   "cell_type": "code",
   "execution_count": 21,
   "id": "4752c86b",
   "metadata": {},
   "outputs": [],
   "source": [
    "crawler_step = steps.LambdaStep(\n",
    "    state_id='Dataset Crawler',\n",
    "    parameters={\n",
    "        \"FunctionName\": \"clawler\", #replace with the name of your function\n",
    "        \"Payload\": {\n",
    "        \"input\": \"'StatusCode': 200\"\n",
    "            }\n",
    "                }\n",
    ")"
   ]
  },
  {
   "cell_type": "markdown",
   "id": "724e861a",
   "metadata": {},
   "source": [
    "### 2.2 指定Check Crawler Status的Lambda名字"
   ]
  },
  {
   "cell_type": "code",
   "execution_count": 22,
   "id": "98a0bb2a",
   "metadata": {},
   "outputs": [],
   "source": [
    "crawler_status = steps.LambdaStep(\n",
    "    state_id='Crawler status',\n",
    "    parameters={\n",
    "        \"FunctionName\": \"crawler_status\", #replace with the name of your function\n",
    "        \"Payload\": {\n",
    "        \"input\": \"glue-demo-crawler-0222\"  #replace with the name of your crawler name\n",
    "            }\n",
    "                }\n",
    ")\n",
    "\n",
    "crawler_status.add_retry(\n",
    "    Retry(error_equals=[\"States.TaskFailed\"], interval_seconds=30, max_attempts=10, backoff_rate=4.0) #replace with the interval and attempts of your crawler\n",
    ")\n",
    "\n",
    "crawler_status.add_catch(\n",
    "    Catch(error_equals=[\"States.TaskFailed\"], next_step=Fail(\"LambdaTaskFailed\"))\n",
    ")"
   ]
  },
  {
   "cell_type": "markdown",
   "id": "f4b7d601",
   "metadata": {},
   "source": [
    "### 2.3 指定Execute Glue Job的名字"
   ]
  },
  {
   "cell_type": "code",
   "execution_count": 23,
   "id": "4e83b8ce",
   "metadata": {},
   "outputs": [],
   "source": [
    "etl_step = steps.GlueStartJobRunStep(\n",
    "    state_id='Extract, Transform, Load',\n",
    "    parameters={\"JobName\":'glue-demo-job-0223', #replace with the name of your gluejob\n",
    "               }\n",
    ")"
   ]
  },
  {
   "cell_type": "code",
   "execution_count": 24,
   "id": "6a6360e3",
   "metadata": {},
   "outputs": [],
   "source": [
    "from stepfunctions.steps.fields import Field"
   ]
  },
  {
   "cell_type": "code",
   "execution_count": 25,
   "id": "9da7777f",
   "metadata": {},
   "outputs": [],
   "source": [
    "workflow_definition = steps.Chain([\n",
    "    crawler_step,\n",
    "    crawler_status,\n",
    "    etl_step\n",
    "])"
   ]
  },
  {
   "cell_type": "markdown",
   "id": "1344a230",
   "metadata": {},
   "source": [
    "## 3. 运行上述workflow，指定workflow name"
   ]
  },
  {
   "cell_type": "code",
   "execution_count": 140,
   "id": "599fde82",
   "metadata": {},
   "outputs": [],
   "source": [
    "workflow = Workflow(\n",
    "    name='My-ETL-workflow01',\n",
    "    definition=workflow_definition,\n",
    "    role=workflow_execution_role,\n",
    ")"
   ]
  },
  {
   "cell_type": "code",
   "execution_count": 141,
   "id": "4b655553",
   "metadata": {},
   "outputs": [
    {
     "data": {
      "text/html": [
       "\n",
       "<link rel=\"stylesheet\" type=\"text/css\" href=\"https://do0of8uwbahzz.cloudfront.net/graph.css\">\n",
       "<div id=\"graph-802\" class=\"workflowgraph\">\n",
       "    \n",
       "    <svg></svg>\n",
       "    \n",
       "</div>\n",
       "\n",
       "<script type=\"text/javascript\">\n",
       "\n",
       "require.config({\n",
       "    paths: {\n",
       "        sfn: \"https://do0of8uwbahzz.cloudfront.net/sfn\",\n",
       "    }\n",
       "});\n",
       "\n",
       "require(['sfn'], function(sfn) {\n",
       "    var element = document.getElementById('graph-802')\n",
       "\n",
       "    var options = {\n",
       "        width: parseFloat(getComputedStyle(element, null).width.replace(\"px\", \"\")),\n",
       "        height: 600,\n",
       "        layout: 'LR',\n",
       "        resizeHeight: true\n",
       "    };\n",
       "\n",
       "    var definition = {\"StartAt\": \"Dataset Crawler\", \"States\": {\"Dataset Crawler\": {\"Parameters\": {\"FunctionName\": \"clawler\", \"Payload\": {\"input\": \"'StatusCode': 200\"}}, \"Resource\": \"arn:aws-cn:states:::lambda:invoke\", \"Type\": \"Task\", \"Next\": \"Crawler status\"}, \"Crawler status\": {\"Parameters\": {\"FunctionName\": \"crawler_status\", \"Payload\": {\"input\": \"glue-demo-crawler-0222\"}}, \"Resource\": \"arn:aws-cn:states:::lambda:invoke\", \"Type\": \"Task\", \"Next\": \"Extract, Transform, Load\", \"Retry\": [{\"ErrorEquals\": [\"States.TaskFailed\"], \"IntervalSeconds\": 30, \"MaxAttempts\": 10, \"BackoffRate\": 4.0}], \"Catch\": [{\"ErrorEquals\": [\"States.TaskFailed\"], \"Next\": \"LambdaTaskFailed\"}]}, \"Extract, Transform, Load\": {\"Parameters\": {\"JobName\": \"glue-demo-job-0223\"}, \"Resource\": \"arn:aws-cn:states:::glue:startJobRun.sync\", \"Type\": \"Task\", \"End\": true}, \"LambdaTaskFailed\": {\"Type\": \"Fail\"}}};\n",
       "    var elementId = '#graph-802';\n",
       "\n",
       "    var graph = new sfn.StateMachineGraph(definition, elementId, options);\n",
       "    graph.render();\n",
       "});\n",
       "\n",
       "</script>\n"
      ],
      "text/plain": [
       "<IPython.core.display.HTML object>"
      ]
     },
     "execution_count": 141,
     "metadata": {},
     "output_type": "execute_result"
    }
   ],
   "source": [
    "workflow.render_graph()"
   ]
  },
  {
   "cell_type": "code",
   "execution_count": 142,
   "id": "bde1a790",
   "metadata": {},
   "outputs": [
    {
     "name": "stdout",
     "output_type": "stream",
     "text": [
      "\u001b[32m[INFO] Workflow created successfully on AWS Step Functions.\u001b[0m\n"
     ]
    },
    {
     "data": {
      "text/plain": [
       "'arn:aws-cn:states:cn-north-1:685095924131:stateMachine:My-ETL-workflow01'"
      ]
     },
     "execution_count": 142,
     "metadata": {},
     "output_type": "execute_result"
    }
   ],
   "source": [
    "workflow.create()"
   ]
  },
  {
   "cell_type": "code",
   "execution_count": 143,
   "id": "6836416f",
   "metadata": {},
   "outputs": [
    {
     "name": "stdout",
     "output_type": "stream",
     "text": [
      "\u001b[32m[INFO] Workflow execution started successfully on AWS Step Functions.\u001b[0m\n"
     ]
    }
   ],
   "source": [
    "execution = workflow.execute()"
   ]
  },
  {
   "cell_type": "code",
   "execution_count": null,
   "id": "aef3a3ad",
   "metadata": {},
   "outputs": [],
   "source": [
    "execution.render_progress()"
   ]
  },
  {
   "cell_type": "code",
   "execution_count": 147,
   "id": "fcfc005b",
   "metadata": {},
   "outputs": [
    {
     "data": {
      "text/html": [
       "\n",
       "    <style>\n",
       "        \n",
       "    .table-widget {\n",
       "        width: 100%;\n",
       "        font-size: 14px;\n",
       "        line-height: 28px;\n",
       "        color: #545b64;\n",
       "        border-spacing: 0;\n",
       "        background-color: #fff;\n",
       "        border-color: grey;\n",
       "        background: #fafafa;\n",
       "    }\n",
       "\n",
       "    .table-widget thead th {\n",
       "        text-align: left !important;\n",
       "        color: #879596;\n",
       "        padding: 0.3em 2em;\n",
       "        border-bottom: 1px solid #eaeded;\n",
       "        min-height: 4rem;\n",
       "        line-height: 28px;\n",
       "    }\n",
       "\n",
       "    .table-widget thead th:first-of-type {\n",
       "    }\n",
       "\n",
       "    .table-widget td {\n",
       "        overflow-wrap: break-word;\n",
       "        padding: 0.4em 2em;\n",
       "        line-height: 28px;\n",
       "        text-align: left !important;\n",
       "        background: #fff;\n",
       "        border-bottom: 1px solid #eaeded;\n",
       "        border-top: 1px solid transparent;\n",
       "    }\n",
       "\n",
       "    .table-widget td:before {\n",
       "        content: \"\";\n",
       "        height: 3rem;\n",
       "    }\n",
       "\n",
       "    a {\n",
       "        cursor: pointer;\n",
       "        text-decoration: none !important;\n",
       "        color: #007dbc;\n",
       "    }\n",
       "\n",
       "    a:hover {\n",
       "        text-decoration: underline !important;\n",
       "    }\n",
       "\n",
       "    a.disabled {\n",
       "        color: black;\n",
       "        cursor: default;\n",
       "        pointer-events: none;\n",
       "    }\n",
       "\n",
       "    .hide {\n",
       "        display: none;\n",
       "    }\n",
       "\n",
       "    pre {\n",
       "        white-space: pre-wrap;\n",
       "    }\n",
       "\n",
       "        \n",
       "    * {\n",
       "        box-sizing: border-box;\n",
       "    }\n",
       "\n",
       "    .table-widget {\n",
       "        min-width: 100%;\n",
       "        font-size: 14px;\n",
       "        line-height: 28px;\n",
       "        color: #545b64;\n",
       "        border-spacing: 0;\n",
       "        background-color: #fff;\n",
       "        border-color: grey;\n",
       "        background: #fafafa;\n",
       "    }\n",
       "\n",
       "    .table-widget thead th {\n",
       "        text-align: left !important;\n",
       "        color: #879596;\n",
       "        padding: 0.3em 2em;\n",
       "        border-bottom: 1px solid #eaeded;\n",
       "        min-height: 4rem;\n",
       "        line-height: 28px;\n",
       "    }\n",
       "\n",
       "    .table-widget td {\n",
       "        /* padding: 24px 18px; */\n",
       "        padding: 0.4em 2em;\n",
       "        line-height: 28px;\n",
       "        text-align: left !important;\n",
       "        background: #fff;\n",
       "        border-bottom: 1px solid #eaeded;\n",
       "        border-top: 1px solid transparent;\n",
       "    }\n",
       "\n",
       "    .table-widget td:before {\n",
       "        content: \"\";\n",
       "        height: 3rem;\n",
       "    }\n",
       "\n",
       "    .table-widget .clickable-cell {\n",
       "        cursor: pointer;\n",
       "    }\n",
       "\n",
       "    .hide {\n",
       "        display: none;\n",
       "    }\n",
       "\n",
       "    .triangle-right {\n",
       "        width: 0;\n",
       "        height: 0;\n",
       "        border-top: 5px solid transparent;\n",
       "        border-left: 8px solid #545b64;\n",
       "        border-bottom: 5px solid transparent;\n",
       "        margin-right: 5px;\n",
       "    }\n",
       "\n",
       "    a.awsui {\n",
       "        text-decoration: none !important;\n",
       "        color: #007dbc;\n",
       "    }\n",
       "\n",
       "    a.awsui:hover {\n",
       "        text-decoration: underline !important;\n",
       "    }\n",
       "\n",
       "    </style>\n",
       "    <table class=\"table-widget\">\n",
       "        <thead>\n",
       "            <tr>\n",
       "                <th>Name</th>\n",
       "                <th>Status</th>\n",
       "                <th>Started</th>\n",
       "                <th>End Time</th>\n",
       "            </tr>\n",
       "        </thead>\n",
       "        <tbody>\n",
       "            \n",
       "    <tr class=\"awsui-table-row\">\n",
       "        <td>\n",
       "            <a href=\"https://console.aws.amazon.com/states/home?region=cn-north-1#/executions/details/arn:aws-cn:states:cn-north-1:685095924131:execution:My-ETL-workflow01:f9dffe5e-b6f7-4758-a9d4-cf814396a0ba\" target=\"_blank\" class=\"awsui\">f9dffe5e-b6f7-4758-a9d4-cf814396a0ba</a>\n",
       "        </td>\n",
       "        <td>SUCCEEDED</td>\n",
       "        <td>Jun 04, 2021 03:54:17.208 PM</td>\n",
       "        <td>Jun 04, 2021 03:57:51.225 PM</td>\n",
       "    </tr>\n",
       "\n",
       "        </tbody>\n",
       "    </table>\n"
      ],
      "text/plain": [
       "<IPython.core.display.HTML object>"
      ]
     },
     "execution_count": 147,
     "metadata": {},
     "output_type": "execute_result"
    }
   ],
   "source": [
    "workflow.list_executions(html=True)"
   ]
  }
 ],
 "metadata": {
  "kernelspec": {
   "display_name": "conda_python3",
   "language": "python",
   "name": "conda_python3"
  },
  "language_info": {
   "codemirror_mode": {
    "name": "ipython",
    "version": 3
   },
   "file_extension": ".py",
   "mimetype": "text/x-python",
   "name": "python",
   "nbconvert_exporter": "python",
   "pygments_lexer": "ipython3",
   "version": "3.6.13"
  }
 },
 "nbformat": 4,
 "nbformat_minor": 5
}
